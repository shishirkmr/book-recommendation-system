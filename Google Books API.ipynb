{
 "cells": [
  {
   "cell_type": "code",
   "execution_count": 6,
   "metadata": {},
   "outputs": [],
   "source": [
    "import pandas as pd\n",
    "import requests\n",
    "import os\n",
    "import re\n",
    "import json"
   ]
  },
  {
   "cell_type": "code",
   "execution_count": 7,
   "metadata": {},
   "outputs": [],
   "source": [
    "books_df = pd.read_csv('./Books.txt', header=None, names=['author_name','book_name'])"
   ]
  },
  {
   "cell_type": "code",
   "execution_count": 13,
   "metadata": {},
   "outputs": [],
   "source": [
    "SEARCH_URL = \"https://www.googleapis.com/books/v1/volumes?q=intitle:%s+inauthor:%s\"\n",
    "LOCAL_FOLDER = \"./google_books_data/\""
   ]
  },
  {
   "cell_type": "code",
   "execution_count": 14,
   "metadata": {},
   "outputs": [],
   "source": [
    "def clean_name(name):\n",
    "    name = name.replace('.', ' ').replace(',', ' ').lower().strip()\n",
    "    return re.sub(' +', ' ', name)\n",
    "\n",
    "\n",
    "def filter_book(resp, name, author):\n",
    "\n",
    "    if resp.get('totalItems', 0) == 0:\n",
    "        print('%%%%%.  NO RESULT FOUND %%%%%%')\n",
    "        return {}\n",
    "\n",
    "    result = list()\n",
    "    author_result = list()\n",
    "    for book in resp['items']:\n",
    "        info = book.get('volumeInfo', {})\n",
    "        #print(\"\\n\\n\\n\", info)\n",
    "#         print( clean_name(name))\n",
    "#         print(clean_name(info['title']))\n",
    "#         print('\\n')\n",
    "        if clean_name(info['title']) == clean_name(name):\n",
    "            result.append(book)\n",
    "        #print([creator.lower().strip() for creator in info['authors']], author.lower().strip())\n",
    "        if any([clean_name(creator) == clean_name(author) for creator in info.get('authors', [])]):\n",
    "            author_result.append(book)\n",
    "        \n",
    "    if result:\n",
    "        return result\n",
    "    elif author_result:\n",
    "        return author_result\n",
    "    else:\n",
    "        print('NO RESULTS MATCHED', resp)\n",
    "\n",
    "    \n",
    "def search_books(name, author, search_url=SEARCH_URL):\n",
    "    resp = requests.get(search_url % (name, author)).content\n",
    "    json_data = json.loads(resp)\n",
    "    results = filter_book(json_data, name, author)\n",
    "    print('Matches Found', len(results))\n",
    "    return results\n",
    "\n",
    "def save_result(book, name, author, local_folder=LOCAL_FOLDER):\n",
    "    file_name = '_'.join(name.split(' ') +['<>'] + author.split(' ')) + '.json'\n",
    "    local_path = os.path.join(local_folder, file_name)\n",
    "    with open(local_path, 'w') as fp:\n",
    "        fp.write(json.dumps(book))\n",
    "    return True\n",
    "    "
   ]
  },
  {
   "cell_type": "code",
   "execution_count": 32,
   "metadata": {},
   "outputs": [],
   "source": [
    "def get_attribute(book_data,key):\n",
    "    try:\n",
    "        value = book_data[0]['volumeInfo'][key]\n",
    "        return value\n",
    "    except:\n",
    "        return None\n",
    "    \n",
    "def get_book_attribtes(book_data):\n",
    "    # get pageCount, categories, ratingsCount, averageRating\n",
    "#     if get_attribute(book_data,'pageCount')\n",
    "    page_count = get_attribute(book_data,'pageCount')\n",
    "    genre = get_attribute(book_data,'categories')\n",
    "    ratings_count = get_attribute(book_data,'ratingsCount')\n",
    "    average_rating = get_attribute(book_data,'averageRating')\n",
    "    return {'page_count':page_count,\n",
    "           'genre':genre,\n",
    "           'ratings_count':ratings_count,\n",
    "           'average_rating':average_rating}"
   ]
  },
  {
   "cell_type": "code",
   "execution_count": 49,
   "metadata": {},
   "outputs": [
    {
     "name": "stdout",
     "output_type": "stream",
     "text": [
      "0 searching name: The Hitchhiker's Guide To The Galaxy | author: Douglas Adams\n",
      "Matches Found 2\n",
      "1 searching name: Watership Down | author: Richard Adams\n",
      "Matches Found 1\n",
      "2 searching name: The Five People You Meet in Heaven | author: Mitch Albom\n",
      "Matches Found 1\n",
      "3 searching name: Speak | author: Laurie Halse Anderson\n",
      "Matches Found 1\n",
      "4 searching name: I Know Why the Caged Bird Sings | author: Maya Angelou\n",
      "Matches Found 3\n",
      "5 searching name: Thirteen Reasons Why | author: Jay Asher\n",
      "Matches Found 1\n",
      "6 searching name: Foundation Series | author: Isaac Asimov\n",
      "Matches Found 10\n",
      "7 searching name: The Sisterhood of the Travelling Pants | author: Ann Brashares\n",
      "Matches Found 10\n",
      "8 searching name: A Great and Terrible Beauty | author: Libba Bray\n",
      "Matches Found 1\n",
      "9 searching name: The Da Vinci Code | author: Dan Brown\n",
      "Matches Found 1\n",
      "10 searching name: The Princess Diaries | author: Meg Cabot\n",
      "Matches Found 1\n",
      "11 searching name: Ender's Game | author: Orson Scott Card\n",
      "Matches Found 4\n",
      "12 searching name: The Hunt for Red October | author: Tom Clancy\n",
      "Matches Found 1\n",
      "13 searching name: The Hunger Games | author: Suzanne Collins\n",
      "Matches Found 1\n",
      "14 searching name: The Great Gatsby | author: F. Scott Fitzgerald\n",
      "Matches Found 1\n",
      "15 searching name: Ranger's Apprentice Series | author: John Flanagan\n",
      "Matches Found 10\n",
      "16 searching name: Inkheart | author: Cornelia Funke\n",
      "Matches Found 2\n",
      "17 searching name: Neuromancer | author: William Gibson\n",
      "Matches Found 1\n",
      "18 searching name: Lord of the Flies | author: William Golding\n",
      "Matches Found 2\n",
      "19 searching name: The Princess Bride | author: William Goldman\n",
      "Matches Found 2\n",
      "20 searching name: Dinotopia: A Land Apart from Time | author: James Gurney\n",
      "Matches Found 4\n",
      "21 searching name: Far North | author: Will Hobbs\n",
      "Matches Found 1\n",
      "22 searching name: Practical Magic | author: Alice Hoffman\n",
      "Matches Found 1\n",
      "23 searching name: Brave New World | author: Aldous Huxley\n",
      "Matches Found 3\n",
      "24 searching name: The Summer Tree | author: Guy Gavriel Kay\n",
      "Matches Found 1\n",
      "25 searching name: Flowers For Algernon | author: Daniel Keyes\n",
      "Matches Found 2\n",
      "26 searching name: Owl in Love | author: Patrice Kindl\n",
      "Matches Found 1\n",
      "27 searching name: Naruto | author: Masashi Kishimoto\n",
      "Matches Found 10\n",
      "28 searching name: Bleach (graphic novel) | author: Tite Kubo\n",
      "Matches Found 10\n",
      "29 searching name: Kiss the Dust | author: Elizabeth Laird\n",
      "Matches Found 1\n",
      "30 searching name: To Kill a Mockingbird | author: Harper Lee\n",
      "Matches Found 1\n",
      "31 searching name: The Lion the Witch and the Wardrobe | author: C S Lewis\n",
      "Matches Found 2\n",
      "32 searching name: The Bourne Series | author: Robert Ludlum\n",
      "Matches Found 10\n",
      "33 searching name: Life of Pi | author: Yann Martel\n",
      "Matches Found 2\n",
      "34 searching name: Breathless | author: Lurlene McDaniel\n",
      "Matches Found 1\n",
      "35 searching name: Twilight Series | author: Stephenie Meyer\n",
      "Matches Found 10\n",
      "36 searching name: Sabriel | author: Garth Nix\n",
      "Matches Found 2\n",
      "37 searching name: Nineteen Eighty-Four (1984) | author: George Orwell\n",
      "Matches Found 8\n",
      "38 searching name: Eragon | author: Christopher Paolini\n",
      "Matches Found 2\n",
      "39 searching name: Hatchet | author: Gary Paulsen\n",
      "Matches Found 2\n",
      "40 searching name: My Sister's Keeper | author: Jodi Picoult\n",
      "Matches Found 1\n",
      "41 searching name: The Golden Compass | author: Philip Pullman\n",
      "Matches Found 2\n",
      "42 searching name: Harry Potter Series | author: J.K. Rowling\n",
      "Matches Found 10\n",
      "43 searching name: Holes | author: Louis Sachar\n",
      "Matches Found 1\n",
      "44 searching name: Shonen Jump Series | author: Shueisha\n",
      "%%%%%.  NO RESULT FOUND %%%%%%\n",
      "Matches Found 0\n",
      "45 searching name: The Shadow Club | author: Neil Shusterman\n",
      "%%%%%.  NO RESULT FOUND %%%%%%\n",
      "Matches Found 0\n",
      "46 searching name: Bone Series | author: Jeff Smith\n",
      "Matches Found 9\n",
      "47 searching name: Maus: A Survivor's Tale | author: Art Spiegelman\n",
      "Matches Found 9\n",
      "48 searching name: The Joy Luck Club | author: Amy Tan\n",
      "Matches Found 2\n",
      "49 searching name: The Lord of the Rings | author: J R R Tolkien\n",
      "Matches Found 1\n",
      "50 searching name: The Hobbit | author: J R R Tolkien\n",
      "Matches Found 3\n",
      "51 searching name: Shattered | author: Eric Walters\n",
      "Matches Found 1\n",
      "52 searching name: The War Of The Worlds | author: H G Wells\n",
      "Matches Found 3\n",
      "53 searching name: Dealing with Dragons | author: Patricia C. Wrede\n",
      "Matches Found 1\n",
      "54 searching name: The Chrysalids | author: John Wyndham\n",
      "Matches Found 2\n",
      "Errors: [Pandas(Index=44, author_name='Shueisha', book_name='Shonen Jump Series'), Pandas(Index=45, author_name='Neil Shusterman', book_name='The Shadow Club')]\n"
     ]
    }
   ],
   "source": [
    "book_metadata =[]\n",
    "errors = list()\n",
    "for book in books_df.itertuples():\n",
    "    name = book[2]\n",
    "    author = book[1]\n",
    "    print(book[0], 'searching name: %s | author: %s' % (name, author))\n",
    "    book_data = search_books(name, author)\n",
    "    if book_data:\n",
    "        save_result(book_data, name, author)\n",
    "        book_metadata.append([name,author,get_book_attribtes(book_data)])\n",
    "    else:\n",
    "        book_metadata.append([name,author,{}])\n",
    "        errors.append(book)\n",
    "        \n",
    "print('Errors:', errors)"
   ]
  },
  {
   "cell_type": "code",
   "execution_count": 50,
   "metadata": {},
   "outputs": [],
   "source": [
    "book_metadata_df=pd.DataFrame(book_metadata,columns=['name','author','book_attribtes'])"
   ]
  },
  {
   "cell_type": "code",
   "execution_count": 51,
   "metadata": {},
   "outputs": [
    {
     "data": {
      "text/html": [
       "<div>\n",
       "<style scoped>\n",
       "    .dataframe tbody tr th:only-of-type {\n",
       "        vertical-align: middle;\n",
       "    }\n",
       "\n",
       "    .dataframe tbody tr th {\n",
       "        vertical-align: top;\n",
       "    }\n",
       "\n",
       "    .dataframe thead th {\n",
       "        text-align: right;\n",
       "    }\n",
       "</style>\n",
       "<table border=\"1\" class=\"dataframe\">\n",
       "  <thead>\n",
       "    <tr style=\"text-align: right;\">\n",
       "      <th></th>\n",
       "      <th>name</th>\n",
       "      <th>author</th>\n",
       "      <th>book_attribtes</th>\n",
       "    </tr>\n",
       "  </thead>\n",
       "  <tbody>\n",
       "    <tr>\n",
       "      <th>0</th>\n",
       "      <td>The Hitchhiker's Guide To The Galaxy</td>\n",
       "      <td>Douglas Adams</td>\n",
       "      <td>{'page_count': 764, 'genre': ['Dent, Arthur'],...</td>\n",
       "    </tr>\n",
       "    <tr>\n",
       "      <th>1</th>\n",
       "      <td>Watership Down</td>\n",
       "      <td>Richard Adams</td>\n",
       "      <td>{'page_count': 496, 'genre': ['Fiction'], 'rat...</td>\n",
       "    </tr>\n",
       "    <tr>\n",
       "      <th>2</th>\n",
       "      <td>The Five People You Meet in Heaven</td>\n",
       "      <td>Mitch Albom</td>\n",
       "      <td>{'page_count': 240, 'genre': ['Fiction'], 'rat...</td>\n",
       "    </tr>\n",
       "    <tr>\n",
       "      <th>3</th>\n",
       "      <td>Speak</td>\n",
       "      <td>Laurie Halse Anderson</td>\n",
       "      <td>{'page_count': 240, 'genre': ['Juvenile Fictio...</td>\n",
       "    </tr>\n",
       "    <tr>\n",
       "      <th>4</th>\n",
       "      <td>I Know Why the Caged Bird Sings</td>\n",
       "      <td>Maya Angelou</td>\n",
       "      <td>{'page_count': 288, 'genre': ['Biography &amp; Aut...</td>\n",
       "    </tr>\n",
       "  </tbody>\n",
       "</table>\n",
       "</div>"
      ],
      "text/plain": [
       "                                   name                 author  \\\n",
       "0  The Hitchhiker's Guide To The Galaxy          Douglas Adams   \n",
       "1                        Watership Down          Richard Adams   \n",
       "2    The Five People You Meet in Heaven            Mitch Albom   \n",
       "3                                 Speak  Laurie Halse Anderson   \n",
       "4       I Know Why the Caged Bird Sings           Maya Angelou   \n",
       "\n",
       "                                      book_attribtes  \n",
       "0  {'page_count': 764, 'genre': ['Dent, Arthur'],...  \n",
       "1  {'page_count': 496, 'genre': ['Fiction'], 'rat...  \n",
       "2  {'page_count': 240, 'genre': ['Fiction'], 'rat...  \n",
       "3  {'page_count': 240, 'genre': ['Juvenile Fictio...  \n",
       "4  {'page_count': 288, 'genre': ['Biography & Aut...  "
      ]
     },
     "execution_count": 51,
     "metadata": {},
     "output_type": "execute_result"
    }
   ],
   "source": [
    "book_metadata_df.head()"
   ]
  },
  {
   "cell_type": "code",
   "execution_count": 52,
   "metadata": {},
   "outputs": [
    {
     "data": {
      "text/plain": [
       "(55, 3)"
      ]
     },
     "execution_count": 52,
     "metadata": {},
     "output_type": "execute_result"
    }
   ],
   "source": [
    "book_metadata_df.shape"
   ]
  },
  {
   "cell_type": "code",
   "execution_count": 56,
   "metadata": {},
   "outputs": [],
   "source": [
    "book_metadata_df['genre']=book_metadata_df['book_attribtes'].apply(lambda x: x['genre'] if 'genre' in x.keys() else None)\n",
    "book_metadata_df['page_count']=book_metadata_df['book_attribtes'].apply(lambda x: x['page_count'] if 'page_count' in x.keys() else None)\n",
    "book_metadata_df['ratings_count']=book_metadata_df['book_attribtes'].apply(lambda x: x['ratings_count'] if 'ratings_count' in x.keys() else None)\n",
    "book_metadata_df['average_rating']=book_metadata_df['book_attribtes'].apply(lambda x: x['average_rating'] if 'average_rating' in x.keys() else None)"
   ]
  },
  {
   "cell_type": "code",
   "execution_count": 57,
   "metadata": {},
   "outputs": [
    {
     "data": {
      "text/plain": [
       "(55, 7)"
      ]
     },
     "execution_count": 57,
     "metadata": {},
     "output_type": "execute_result"
    }
   ],
   "source": [
    "book_metadata_df.shape"
   ]
  },
  {
   "cell_type": "code",
   "execution_count": 58,
   "metadata": {},
   "outputs": [
    {
     "data": {
      "text/html": [
       "<div>\n",
       "<style scoped>\n",
       "    .dataframe tbody tr th:only-of-type {\n",
       "        vertical-align: middle;\n",
       "    }\n",
       "\n",
       "    .dataframe tbody tr th {\n",
       "        vertical-align: top;\n",
       "    }\n",
       "\n",
       "    .dataframe thead th {\n",
       "        text-align: right;\n",
       "    }\n",
       "</style>\n",
       "<table border=\"1\" class=\"dataframe\">\n",
       "  <thead>\n",
       "    <tr style=\"text-align: right;\">\n",
       "      <th></th>\n",
       "      <th>page_count</th>\n",
       "      <th>ratings_count</th>\n",
       "      <th>average_rating</th>\n",
       "    </tr>\n",
       "  </thead>\n",
       "  <tbody>\n",
       "    <tr>\n",
       "      <th>count</th>\n",
       "      <td>49.000000</td>\n",
       "      <td>47.000000</td>\n",
       "      <td>47.000000</td>\n",
       "    </tr>\n",
       "    <tr>\n",
       "      <th>mean</th>\n",
       "      <td>345.244898</td>\n",
       "      <td>484.425532</td>\n",
       "      <td>3.968085</td>\n",
       "    </tr>\n",
       "    <tr>\n",
       "      <th>std</th>\n",
       "      <td>206.165238</td>\n",
       "      <td>970.178149</td>\n",
       "      <td>0.482343</td>\n",
       "    </tr>\n",
       "    <tr>\n",
       "      <th>min</th>\n",
       "      <td>80.000000</td>\n",
       "      <td>1.000000</td>\n",
       "      <td>3.000000</td>\n",
       "    </tr>\n",
       "    <tr>\n",
       "      <th>25%</th>\n",
       "      <td>216.000000</td>\n",
       "      <td>15.000000</td>\n",
       "      <td>3.500000</td>\n",
       "    </tr>\n",
       "    <tr>\n",
       "      <th>50%</th>\n",
       "      <td>300.000000</td>\n",
       "      <td>86.000000</td>\n",
       "      <td>4.000000</td>\n",
       "    </tr>\n",
       "    <tr>\n",
       "      <th>75%</th>\n",
       "      <td>400.000000</td>\n",
       "      <td>258.500000</td>\n",
       "      <td>4.250000</td>\n",
       "    </tr>\n",
       "    <tr>\n",
       "      <th>max</th>\n",
       "      <td>1216.000000</td>\n",
       "      <td>3649.000000</td>\n",
       "      <td>5.000000</td>\n",
       "    </tr>\n",
       "  </tbody>\n",
       "</table>\n",
       "</div>"
      ],
      "text/plain": [
       "        page_count  ratings_count  average_rating\n",
       "count    49.000000      47.000000       47.000000\n",
       "mean    345.244898     484.425532        3.968085\n",
       "std     206.165238     970.178149        0.482343\n",
       "min      80.000000       1.000000        3.000000\n",
       "25%     216.000000      15.000000        3.500000\n",
       "50%     300.000000      86.000000        4.000000\n",
       "75%     400.000000     258.500000        4.250000\n",
       "max    1216.000000    3649.000000        5.000000"
      ]
     },
     "execution_count": 58,
     "metadata": {},
     "output_type": "execute_result"
    }
   ],
   "source": [
    "book_metadata_df.describe()"
   ]
  },
  {
   "cell_type": "code",
   "execution_count": 65,
   "metadata": {},
   "outputs": [],
   "source": [
    "book_metadata_df.to_csv('./google_books_data/csv/book_metadata_df.csv',index=False, encoding='utf-8')"
   ]
  },
  {
   "cell_type": "code",
   "execution_count": null,
   "metadata": {},
   "outputs": [],
   "source": [
    "# Test Functions"
   ]
  },
  {
   "cell_type": "code",
   "execution_count": 60,
   "metadata": {},
   "outputs": [
    {
     "name": "stdout",
     "output_type": "stream",
     "text": [
      "Matches Found 10\n"
     ]
    }
   ],
   "source": [
    "book_data=search_books(\"Naruto\", 'Masashi Kishimoto')"
   ]
  },
  {
   "cell_type": "code",
   "execution_count": 61,
   "metadata": {},
   "outputs": [
    {
     "data": {
      "text/plain": [
       "{'title': 'Naruto, Vol. 66',\n",
       " 'subtitle': 'The New Three',\n",
       " 'authors': ['Masashi Kishimoto'],\n",
       " 'publisher': 'VIZ Media LLC',\n",
       " 'publishedDate': '2014-07-01',\n",
       " 'description': 'Naruto will have to summon all of his Nine Tails power if he hopes to stand up against the devastating team of Obito and Madara. Luckily for the Allied Shinobi Forces, the greatest help they could ever wish for is on the way. And when Naruto, Sasuke and Sakura are finally reunited, the whole direction of the war may change dramatically! -- VIZ Media',\n",
       " 'industryIdentifiers': [{'type': 'ISBN_13', 'identifier': '9781421578408'},\n",
       "  {'type': 'ISBN_10', 'identifier': '1421578409'}],\n",
       " 'readingModes': {'text': True, 'image': False},\n",
       " 'pageCount': 187,\n",
       " 'printType': 'BOOK',\n",
       " 'categories': ['Comics & Graphic Novels'],\n",
       " 'maturityRating': 'NOT_MATURE',\n",
       " 'allowAnonLogging': True,\n",
       " 'contentVersion': '1.1.2.0.preview.2',\n",
       " 'panelizationSummary': {'containsEpubBubbles': True,\n",
       "  'containsImageBubbles': True,\n",
       "  'epubBubbleVersion': '6fcbdbe4b6fca071',\n",
       "  'imageBubbleVersion': '6fcbdbe4b6fca071'},\n",
       " 'imageLinks': {'smallThumbnail': 'http://books.google.com/books/content?id=1rnoAwAAQBAJ&printsec=frontcover&img=1&zoom=5&source=gbs_api',\n",
       "  'thumbnail': 'http://books.google.com/books/content?id=1rnoAwAAQBAJ&printsec=frontcover&img=1&zoom=1&source=gbs_api'},\n",
       " 'language': 'en',\n",
       " 'previewLink': 'http://books.google.co.in/books?id=1rnoAwAAQBAJ&pg=PP1&dq=intitle:Naruto+inauthor:Masashi+Kishimoto&hl=&cd=1&source=gbs_api',\n",
       " 'infoLink': 'http://books.google.co.in/books?id=1rnoAwAAQBAJ&dq=intitle:Naruto+inauthor:Masashi+Kishimoto&hl=&source=gbs_api',\n",
       " 'canonicalVolumeLink': 'https://books.google.com/books/about/Naruto_Vol_66.html?hl=&id=1rnoAwAAQBAJ',\n",
       " 'seriesInfo': {'kind': 'books#volume_series_info',\n",
       "  'shortSeriesBookTitle': 'The New Three',\n",
       "  'bookDisplayNumber': '66',\n",
       "  'volumeSeries': [{'seriesId': 'p2rcFwAAABB6fM',\n",
       "    'seriesBookType': 'COLLECTED_EDITION',\n",
       "    'orderNumber': 66}]}}"
      ]
     },
     "execution_count": 61,
     "metadata": {},
     "output_type": "execute_result"
    }
   ],
   "source": [
    "book_data[0]['volumeInfo']"
   ]
  },
  {
   "cell_type": "code",
   "execution_count": 62,
   "metadata": {},
   "outputs": [
    {
     "data": {
      "text/plain": [
       "{'page_count': 187,\n",
       " 'genre': ['Comics & Graphic Novels'],\n",
       " 'ratings_count': None,\n",
       " 'average_rating': None}"
      ]
     },
     "execution_count": 62,
     "metadata": {},
     "output_type": "execute_result"
    }
   ],
   "source": [
    "get_book_attribtes(book_data)"
   ]
  },
  {
   "cell_type": "code",
   "execution_count": 63,
   "metadata": {},
   "outputs": [
    {
     "data": {
      "text/plain": [
       "10"
      ]
     },
     "execution_count": 63,
     "metadata": {},
     "output_type": "execute_result"
    }
   ],
   "source": [
    "len(book_data)"
   ]
  },
  {
   "cell_type": "code",
   "execution_count": null,
   "metadata": {},
   "outputs": [],
   "source": []
  },
  {
   "cell_type": "code",
   "execution_count": null,
   "metadata": {},
   "outputs": [],
   "source": []
  }
 ],
 "metadata": {
  "kernelspec": {
   "display_name": "Python 3",
   "language": "python",
   "name": "python3"
  },
  "language_info": {
   "codemirror_mode": {
    "name": "ipython",
    "version": 3
   },
   "file_extension": ".py",
   "mimetype": "text/x-python",
   "name": "python",
   "nbconvert_exporter": "python",
   "pygments_lexer": "ipython3",
   "version": "3.7.3"
  }
 },
 "nbformat": 4,
 "nbformat_minor": 4
}
